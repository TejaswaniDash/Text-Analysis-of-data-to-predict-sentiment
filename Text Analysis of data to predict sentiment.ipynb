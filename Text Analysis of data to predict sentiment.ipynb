{
 "cells": [
  {
   "cell_type": "code",
   "execution_count": null,
   "metadata": {
    "colab": {
     "base_uri": "https://localhost:8080/"
    },
    "id": "6aNZw60yHg7R",
    "outputId": "68177749-2805-493a-effb-450243e2c1fd"
   },
   "outputs": [
    {
     "name": "stdout",
     "output_type": "stream",
     "text": [
      "Drive already mounted at /content/drive; to attempt to forcibly remount, call drive.mount(\"/content/drive\", force_remount=True).\n"
     ]
    }
   ],
   "source": [
    "from google.colab import drive\n",
    "drive.mount('/content/drive')"
   ]
  },
  {
   "cell_type": "code",
   "execution_count": null,
   "metadata": {
    "colab": {
     "base_uri": "https://localhost:8080/"
    },
    "id": "bmTO67j0Hlny",
    "outputId": "0b8ad49d-4462-47ed-9d4f-c5c7256e93f8"
   },
   "outputs": [
    {
     "name": "stdout",
     "output_type": "stream",
     "text": [
      "[nltk_data] Downloading package stopwords to /root/nltk_data...\n",
      "[nltk_data]   Package stopwords is already up-to-date!\n",
      "[nltk_data] Downloading package punkt to /root/nltk_data...\n",
      "[nltk_data]   Package punkt is already up-to-date!\n"
     ]
    }
   ],
   "source": [
    "import pandas as pd\n",
    "import nltk\n",
    "nltk.download('stopwords')\n",
    "from nltk.corpus import stopwords\n",
    "from nltk.tokenize import word_tokenize\n",
    "nltk.download('punkt')\n",
    "from nltk.stem import PorterStemmer\n",
    "from sklearn.model_selection import train_test_split\n",
    "import numpy as np\n",
    "import regex as re\n",
    "import seaborn as sns\n",
    "from gensim.models import Doc2Vec\n",
    "from gensim.models.doc2vec import TaggedDocument\n",
    "from sklearn import utils\n",
    "import matplotlib.pyplot as plt\n",
    "from sklearn.linear_model import LogisticRegression\n",
    "from sklearn.metrics import accuracy_score, classification_report, confusion_matrix, f1_score, roc_curve\n",
    "model = LogisticRegression(max_iter= 1200000)\n"
   ]
  },
  {
   "cell_type": "code",
   "execution_count": null,
   "metadata": {
    "id": "kSlRllipIDcx"
   },
   "outputs": [],
   "source": [
    "data = pd.read_csv(\"Users/tejaswanidash/Desktop/HeLovesHisPatientsAndICanTellItsAboutUsAndNotTheMoney.csv\")"
   ]
  },
  {
   "cell_type": "code",
   "execution_count": null,
   "metadata": {
    "colab": {
     "base_uri": "https://localhost:8080/"
    },
    "id": "inxdRR5rXIzx",
    "outputId": "8f3f7720-2db2-4642-fb9a-30c1864c9d3d"
   },
   "outputs": [
    {
     "data": {
      "text/plain": [
       "commentId         False\n",
       "comment           False\n",
       "typeId            False\n",
       "classification    False\n",
       "loves             False\n",
       "patients          False\n",
       "tell              False\n",
       "about             False\n",
       "not               False\n",
       "money             False\n",
       "dtype: bool"
      ]
     },
     "execution_count": 221,
     "metadata": {},
     "output_type": "execute_result"
    }
   ],
   "source": [
    "data.isnull().any()"
   ]
  },
  {
   "cell_type": "markdown",
   "metadata": {
    "id": "aPT8kz2UjCx5"
   },
   "source": [
    "# **Visualizing the dataset**"
   ]
  },
  {
   "cell_type": "code",
   "execution_count": null,
   "metadata": {
    "colab": {
     "base_uri": "https://localhost:8080/",
     "height": 355
    },
    "id": "nipyeRmV0dwv",
    "outputId": "91ba6cb6-7365-40fd-e6c5-23967c122ad2"
   },
   "outputs": [
    {
     "name": "stderr",
     "output_type": "stream",
     "text": [
      "/usr/local/lib/python3.7/dist-packages/seaborn/_decorators.py:43: FutureWarning: Pass the following variable as a keyword arg: x. From version 0.12, the only valid positional argument will be `data`, and passing other arguments without an explicit keyword will result in an error or misinterpretation.\n",
      "  FutureWarning\n"
     ]
    },
    {
     "data": {
      "text/plain": [
       "<matplotlib.axes._subplots.AxesSubplot at 0x7fcffdbee810>"
      ]
     },
     "execution_count": 222,
     "metadata": {},
     "output_type": "execute_result"
    },
    {
     "data": {
      "image/png": "[encoded data removed]",
      "text/plain": [
       "<Figure size 432x288 with 1 Axes>"
      ]
     },
     "metadata": {
      "needs_background": "light"
     },
     "output_type": "display_data"
    }
   ],
   "source": [
    "sns.countplot(data.classification)"
   ]
  },
  {
   "cell_type": "markdown",
   "metadata": {
    "id": "A-TlDfME_k45"
   },
   "source": [
    "# **Removing Noise from the Data**"
   ]
  },
  {
   "cell_type": "code",
   "execution_count": null,
   "metadata": {
    "id": "ZKNeoyjjIO4l"
   },
   "outputs": [],
   "source": [
    "def PreProcessing(comment):\n",
    "    comment = comment.lower().replace('\\n' ,' ').replace('\\r', '').strip()\n",
    "    comment = re.sub(' +', ' ', comment) \n",
    "    comment = re.sub(r'[^\\w\\s]', '',comment)\n",
    "    \n",
    "    stop_words = set(stopwords.words('english'))\n",
    "    ps = PorterStemmer()\n",
    "    word_tokens = word_tokenize(comment)\n",
    "    filtered_sentence = []\n",
    "    for w in word_tokens:\n",
    "        if w not in stop_words:\n",
    "            filtered_sentence.append(ps.stem(w))\n",
    "    comment = ' '.join(filtered_sentence)\n",
    "    return comment"
   ]
  },
  {
   "cell_type": "code",
   "execution_count": null,
   "metadata": {
    "id": "F9lAW2_NKgco"
   },
   "outputs": [],
   "source": [
    "data['comment_cleaned'] = data['comment'].apply(PreProcessing)\n",
    "labels = data['classification'].tolist()"
   ]
  },
  {
   "cell_type": "code",
   "execution_count": null,
   "metadata": {
    "id": "HJXhq5n1zacp"
   },
   "outputs": [],
   "source": [
    "def Changelabels(data):\n",
    "  for i, n in enumerate(data):\n",
    "    if n == True:\n",
    "        data[i] = -1\n",
    "    elif n == False:\n",
    "      data[i] = 1\n",
    "  return data      \n",
    "labels = Changelabels(labels)\n"
   ]
  },
  {
   "cell_type": "markdown",
   "metadata": {
    "id": "_HOXM2g4_reT"
   },
   "source": [
    "# **Splitting data into train and test**"
   ]
  },
  {
   "cell_type": "code",
   "execution_count": null,
   "metadata": {
    "id": "N9mgB_JkNSey"
   },
   "outputs": [],
   "source": [
    "from sklearn.model_selection import train_test_split\n",
    "x_train, x_test, Y_train, Y_test = train_test_split(data['comment_cleaned'], labels, test_size = 0.4, random_state = 42)"
   ]
  },
  {
   "cell_type": "code",
   "execution_count": null,
   "metadata": {
    "id": "GM5RanRmklbV"
   },
   "outputs": [],
   "source": [
    "Y_train = np.array(Y_train).reshape((len(Y_train), 1))"
   ]
  },
  {
   "cell_type": "markdown",
   "metadata": {
    "id": "0DAr62a3_wrD"
   },
   "source": [
    "# **Converting comments to vectors using Doc2Vec**"
   ]
  },
  {
   "cell_type": "code",
   "execution_count": null,
   "metadata": {
    "id": "dfca9AYx7aQm"
   },
   "outputs": [],
   "source": [
    "def labels(corpus, label_type):\n",
    "    labeled = []\n",
    "    for i, word in enumerate(corpus):\n",
    "        label = label_type + '_' + str(i)\n",
    "        labeled.append(TaggedDocument(word.split(), [label]))\n",
    "    return labeled\n"
   ]
  },
  {
   "cell_type": "code",
   "execution_count": null,
   "metadata": {
    "id": "JJ94X6VYCJAu"
   },
   "outputs": [],
   "source": [
    "X_train = labels(x_train, 'Train')\n",
    "X_test = labels(x_test, 'Test')\n",
    "all_data = X_train + X_test"
   ]
  },
  {
   "cell_type": "code",
   "execution_count": null,
   "metadata": {
    "id": "Le2LePDX7dmk"
   },
   "outputs": [],
   "source": [
    "model_doc = Doc2Vec(dm=0, vector_size=800, negative=5, min_count=1, alpha=0.065, min_alpha=0.065)\n",
    "model_doc.build_vocab([x for x in (all_data)])\n",
    "\n",
    "for epoch in range(30):\n",
    "    model_doc.train(utils.shuffle([x for x in (all_data)]), total_examples=len(all_data), epochs=1)\n",
    "    model_doc.alpha -= 0.002\n",
    "    model_doc.min_alpha = model_doc.alpha"
   ]
  },
  {
   "cell_type": "code",
   "execution_count": null,
   "metadata": {
    "id": "NmHTpoBQ7h2h"
   },
   "outputs": [],
   "source": [
    "def get_vectors(model, corpus_size, vectors_size, vectors_type):\n",
    "  vectors = np.zeros((corpus_size, vectors_size))\n",
    "  for i in range(0, corpus_size):\n",
    "    prefix = vectors_type + '_' + str(i)\n",
    "    vectors[i] = model.docvecs[prefix]\n",
    "\n",
    "  return vectors  \n",
    "\n"
   ]
  },
  {
   "cell_type": "code",
   "execution_count": null,
   "metadata": {
    "id": "88-xES-W7ip9"
   },
   "outputs": [],
   "source": [
    "features_train = get_vectors(model_doc, len(X_train), 800, 'Train')\n",
    "features_test = get_vectors(model_doc, len(X_test), 800, 'Test')"
   ]
  },
  {
   "cell_type": "markdown",
   "metadata": {
    "id": "SZHFeiF20nBr"
   },
   "source": [
    "#**Initializing the weights and bias from normal distribution**"
   ]
  },
  {
   "cell_type": "code",
   "execution_count": null,
   "metadata": {
    "id": "xWoBiKKyS1PL"
   },
   "outputs": [],
   "source": [
    "# w = np.zeros((1, features_train.shape[1]))\n",
    "# b = np.zeros((1,1))\n",
    "\n",
    "w = np.random.normal(0, 0.01, (1, features_train.shape[1]))\n",
    "b = np.random.normal(0, 0.01, (1,1))"
   ]
  },
  {
   "cell_type": "markdown",
   "metadata": {
    "id": "Bfj77lXF_86Y"
   },
   "source": [
    "# **Logistic Regression from Scratch**"
   ]
  },
  {
   "cell_type": "code",
   "execution_count": null,
   "metadata": {
    "id": "MhRnJha_PaI8"
   },
   "outputs": [],
   "source": [
    "def sigmoid(w, b, x_train):\n",
    "  x = x_train.dot(w.T) + b\n",
    "  sigma = 1/(1 + np.exp(-x))\n",
    "  return sigma"
   ]
  },
  {
   "cell_type": "markdown",
   "metadata": {
    "id": "dO84BNyvABps"
   },
   "source": [
    "# **Updating Weights**"
   ]
  },
  {
   "cell_type": "code",
   "execution_count": null,
   "metadata": {
    "id": "G9EhewUxSW2N"
   },
   "outputs": [],
   "source": [
    "def update_weights(eta, w, b, x_train, y_train, epochs):\n",
    "  sigma = sigmoid(w, b, x_train)\n",
    "  tmp = ( sigma - y_train )\n",
    "  dw = np.dot(x_train.T, tmp)\n",
    "  dw = dw / y_train.shape[0]\n",
    "  W = dw.T\n",
    "  db = np.sum(tmp) / x_train.shape[0]\n",
    "  w = w - eta * W\n",
    "  b = b - eta * db\n",
    "\n",
    "  return w , b "
   ]
  },
  {
   "cell_type": "code",
   "execution_count": null,
   "metadata": {
    "id": "O1iOOLvBSXvv"
   },
   "outputs": [],
   "source": [
    "def LogisticRegression(eta, epochs, w, b, x_train, y_train):\n",
    "\n",
    "  for i in range(epochs):\n",
    "    w, b = update_weights(eta, w, b, x_train, y_train, i)\n",
    "  return w, b"
   ]
  },
  {
   "cell_type": "code",
   "execution_count": null,
   "metadata": {
    "id": "oZZBqh8kSdXY"
   },
   "outputs": [],
   "source": [
    "learningrate = 0.000001\n",
    "epochs = 100\n",
    "w_updated, b_updated = LogisticRegression(learningrate, epochs,w, b, features_train, Y_train.reshape((len(Y_train), 1)) )"
   ]
  },
  {
   "cell_type": "markdown",
   "metadata": {
    "id": "HLeK4MFhASt9"
   },
   "source": [
    "# **Predicting the labels for test data**"
   ]
  },
  {
   "cell_type": "code",
   "execution_count": null,
   "metadata": {
    "id": "rEGgkjXDoDHP"
   },
   "outputs": [],
   "source": [
    "def Predictions(x_test, w_updated, b_updated):\n",
    "  z = sigmoid(w_updated, b_updated, x_test)\n",
    "  Y = np.where( z > 0.5, 1, -1 ) \n",
    "  return Y       \n",
    "\n"
   ]
  },
  {
   "cell_type": "code",
   "execution_count": null,
   "metadata": {
    "id": "abcYiUZ6oC_z"
   },
   "outputs": [],
   "source": [
    "predictions = Predictions(features_test, w_updated, b_updated).tolist()"
   ]
  },
  {
   "cell_type": "code",
   "execution_count": null,
   "metadata": {
    "id": "anSwcraexk1i"
   },
   "outputs": [],
   "source": [
    "predicted_labels = []\n",
    "for i in range(len(predictions)):\n",
    "  predicted_labels.append(predictions[i][0])"
   ]
  },
  {
   "cell_type": "code",
   "execution_count": null,
   "metadata": {
    "colab": {
     "base_uri": "https://localhost:8080/"
    },
    "id": "L9AyStJDTPPN",
    "outputId": "0fee4c29-02a6-468d-cdc5-14e1498abee0"
   },
   "outputs": [
    {
     "name": "stdout",
     "output_type": "stream",
     "text": [
      "Accuracy 0.645919108743037\n",
      "              precision    recall  f1-score   support\n",
      "\n",
      "          -1       0.43      0.15      0.22      1398\n",
      "           1       0.67      0.90      0.77      2731\n",
      "\n",
      "    accuracy                           0.65      4129\n",
      "   macro avg       0.55      0.52      0.50      4129\n",
      "weighted avg       0.59      0.65      0.58      4129\n",
      "\n",
      "Confusion Matrix\n",
      " [[ 205 1193]\n",
      " [ 269 2462]]\n",
      "F1 Score 0.7710616974632009\n"
     ]
    }
   ],
   "source": [
    "print('Accuracy', accuracy_score(Y_test, predicted_labels))\n",
    "print(classification_report(Y_test, predicted_labels))\n",
    "print(\"Confusion Matrix\\n\",confusion_matrix(Y_test, predicted_labels))\n",
    "print(\"F1 Score\",f1_score(Y_test, predicted_labels))\n",
    "\n",
    "fpr, tpr, thr = roc_curve(Y_test, predictions)\n",
    "\n"
   ]
  },
  {
   "cell_type": "markdown",
   "metadata": {
    "id": "l1uXfcOIMIxK"
   },
   "source": [
    "# **Plotting ROC Curve**"
   ]
  },
  {
   "cell_type": "code",
   "execution_count": null,
   "metadata": {
    "colab": {
     "base_uri": "https://localhost:8080/",
     "height": 295
    },
    "id": "kM_uGD8X1IUW",
    "outputId": "cedbe03b-65a8-470d-90c6-d53ee78e7638"
   },
   "outputs": [
    {
     "data": {
      "image/png": "[encoded data removed]",
      "text/plain": [
       "<Figure size 288x288 with 1 Axes>"
      ]
     },
     "metadata": {
      "needs_background": "light"
     },
     "output_type": "display_data"
    }
   ],
   "source": [
    "plt.subplots(1, figsize=(4,4))\n",
    "plt.title('Receiver Operating Characteristic - DecisionTree')\n",
    "plt.plot(fpr, tpr)\n",
    "plt.plot([0, 1], ls=\"--\")\n",
    "plt.plot([0, 0], [1, 0] , c=\".7\"), plt.plot([1, 1] , c=\".7\")\n",
    "plt.ylabel('True Positive Rate')\n",
    "plt.xlabel('False Positive Rate')\n",
    "plt.show()\n"
   ]
  },
  {
   "cell_type": "markdown",
   "metadata": {
    "id": "ZBw1XH3-1z75"
   },
   "source": [
    "#**Predicting Lables using Logistic Regression Library**"
   ]
  },
  {
   "cell_type": "code",
   "execution_count": null,
   "metadata": {
    "colab": {
     "base_uri": "https://localhost:8080/"
    },
    "id": "PPIMqIDa8Irq",
    "outputId": "745fc475-ec57-4d5b-8cd4-cfeba32431b6"
   },
   "outputs": [
    {
     "name": "stderr",
     "output_type": "stream",
     "text": [
      "/usr/local/lib/python3.7/dist-packages/sklearn/utils/validation.py:993: DataConversionWarning: A column-vector y was passed when a 1d array was expected. Please change the shape of y to (n_samples, ), for example using ravel().\n",
      "  y = column_or_1d(y, warn=True)\n"
     ]
    },
    {
     "name": "stdout",
     "output_type": "stream",
     "text": [
      "Accuracy 0.7294744490191329\n",
      "              precision    recall  f1-score   support\n",
      "\n",
      "          -1       0.64      0.45      0.53      1398\n",
      "           1       0.76      0.87      0.81      2731\n",
      "\n",
      "    accuracy                           0.73      4129\n",
      "   macro avg       0.70      0.66      0.67      4129\n",
      "weighted avg       0.72      0.73      0.71      4129\n",
      "\n",
      "Confusion Matrix\n",
      " [[ 627  771]\n",
      " [ 346 2385]]\n",
      "F1 Score 0.8102598946832003\n"
     ]
    }
   ],
   "source": [
    "model.fit(features_train, Y_train)\n",
    "predictions = model.predict(features_test)\n",
    "print('Accuracy', accuracy_score(Y_test, predictions))\n",
    "print(classification_report(Y_test, predictions))\n",
    "print(\"Confusion Matrix\\n\",confusion_matrix(Y_test, predictions))\n",
    "print(\"F1 Score\",f1_score(Y_test, predictions))\n",
    "fpr, tpr, thr = roc_curve(Y_test, predictions)\n"
   ]
  },
  {
   "cell_type": "code",
   "execution_count": null,
   "metadata": {
    "colab": {
     "base_uri": "https://localhost:8080/",
     "height": 295
    },
    "id": "eedraTNb8VvD",
    "outputId": "32c89f9f-4fcc-49c6-de0e-3a8d8e59b129"
   },
   "outputs": [
    {
     "data": {
      "image/png": "[encoded data removed]",
      "text/plain": [
       "<Figure size 288x288 with 1 Axes>"
      ]
     },
     "metadata": {
      "needs_background": "light"
     },
     "output_type": "display_data"
    }
   ],
   "source": [
    "plt.subplots(1, figsize=(4,4))\n",
    "plt.title('Receiver Operating Characteristic - DecisionTree')\n",
    "plt.plot(fpr, tpr)\n",
    "plt.plot([0, 1], ls=\"--\")\n",
    "plt.plot([0, 0], [1, 0] , c=\".7\"), plt.plot([1, 1] , c=\".7\")\n",
    "plt.ylabel('True Positive Rate')\n",
    "plt.xlabel('False Positive Rate')\n",
    "plt.show()\n"
   ]
  },
  {
   "cell_type": "markdown",
   "metadata": {
    "id": "qLlH_zoN2O9w"
   },
   "source": [
    "#**Converting comments to vectors using TF-IDF**"
   ]
  },
  {
   "cell_type": "code",
   "execution_count": null,
   "metadata": {
    "id": "9j0y5TE72TaR"
   },
   "outputs": [],
   "source": [
    "from sklearn.feature_extraction.text import TfidfVectorizer\n",
    "vectorizer = TfidfVectorizer(max_features = 800, ngram_range=(1,2), min_df = 10, max_df = 1.0, norm='l2')\n",
    "train_features = vectorizer.fit_transform(x_train).toarray()\n",
    "test_features = vectorizer.transform(x_test).toarray()\n",
    "Y_train = Y_train.reshape((features_train.shape[0], 1))"
   ]
  },
  {
   "cell_type": "code",
   "execution_count": null,
   "metadata": {
    "colab": {
     "base_uri": "https://localhost:8080/"
    },
    "id": "qluFOJ5P2d2r",
    "outputId": "ddd891f3-45d4-4659-c077-6a74c85559a8",
    "scrolled": true
   },
   "outputs": [
    {
     "name": "stderr",
     "output_type": "stream",
     "text": [
      "/usr/local/lib/python3.7/dist-packages/sklearn/utils/validation.py:993: DataConversionWarning: A column-vector y was passed when a 1d array was expected. Please change the shape of y to (n_samples, ), for example using ravel().\n",
      "  y = column_or_1d(y, warn=True)\n"
     ]
    },
    {
     "name": "stdout",
     "output_type": "stream",
     "text": [
      "Accuracy 0.7553887139743279\n",
      "              precision    recall  f1-score   support\n",
      "\n",
      "          -1       0.70      0.49      0.57      1398\n",
      "           1       0.77      0.89      0.83      2731\n",
      "\n",
      "    accuracy                           0.76      4129\n",
      "   macro avg       0.74      0.69      0.70      4129\n",
      "weighted avg       0.75      0.76      0.74      4129\n",
      "\n",
      "Confusion Matrix\n",
      " [[ 680  718]\n",
      " [ 292 2439]]\n",
      "F1 Score 0.8284646739130435\n"
     ]
    }
   ],
   "source": [
    "model.fit(train_features, Y_train)\n",
    "predictions = model.predict(test_features)\n",
    "print('Accuracy', accuracy_score(Y_test, predictions))\n",
    "print(classification_report(Y_test, predictions))\n",
    "print(\"Confusion Matrix\\n\",confusion_matrix(Y_test, predictions))\n",
    "print(\"F1 Score\",f1_score(Y_test, predictions))\n",
    "fpr, tpr, thr = roc_curve(Y_test, predictions)\n"
   ]
  },
  {
   "cell_type": "code",
   "execution_count": null,
   "metadata": {
    "colab": {
     "base_uri": "https://localhost:8080/",
     "height": 295
    },
    "id": "WaqIW6Yl2wfp",
    "outputId": "1e9102d8-a584-4b1d-835c-4999bc590b94"
   },
   "outputs": [
    {
     "data": {
      "image/png": "[encoded data removed]",
      "text/plain": [
       "<Figure size 288x288 with 1 Axes>"
      ]
     },
     "metadata": {
      "needs_background": "light"
     },
     "output_type": "display_data"
    }
   ],
   "source": [
    "plt.subplots(1, figsize=(4,4))\n",
    "plt.title('Receiver Operating Characteristic - DecisionTree')\n",
    "plt.plot(fpr, tpr)\n",
    "plt.plot([0, 1], ls=\"--\")\n",
    "plt.plot([0, 0], [1, 0] , c=\".7\"), plt.plot([1, 1] , c=\".7\")\n",
    "plt.ylabel('True Positive Rate')\n",
    "plt.xlabel('False Positive Rate')\n",
    "plt.show()\n"
   ]
  }
 ],
 "metadata": {
  "colab": {
   "collapsed_sections": [],
   "name": "Text Analysis_Madhukar Reddy.ipynb",
   "provenance": []
  },
  "kernelspec": {
   "display_name": "Python 3",
   "language": "python",
   "name": "python3"
  },
  "language_info": {
   "codemirror_mode": {
    "name": "ipython",
    "version": 3
   },
   "file_extension": ".py",
   "mimetype": "text/x-python",
   "name": "python",
   "nbconvert_exporter": "python",
   "pygments_lexer": "ipython3",
   "version": "3.8.5"
  }
 },
 "nbformat": 4,
 "nbformat_minor": 1
}
